{
 "cells": [
  {
   "cell_type": "code",
   "execution_count": 41,
   "id": "21f108be-b50a-4735-9ce8-013a316679cc",
   "metadata": {},
   "outputs": [
    {
     "data": {
      "text/html": [
       "<div>\n",
       "<style scoped>\n",
       "    .dataframe tbody tr th:only-of-type {\n",
       "        vertical-align: middle;\n",
       "    }\n",
       "\n",
       "    .dataframe tbody tr th {\n",
       "        vertical-align: top;\n",
       "    }\n",
       "\n",
       "    .dataframe thead th {\n",
       "        text-align: right;\n",
       "    }\n",
       "</style>\n",
       "<table border=\"1\" class=\"dataframe\">\n",
       "  <thead>\n",
       "    <tr style=\"text-align: right;\">\n",
       "      <th></th>\n",
       "      <th>N_Days</th>\n",
       "      <th>Status</th>\n",
       "      <th>Drug</th>\n",
       "      <th>Age</th>\n",
       "      <th>Sex</th>\n",
       "      <th>Ascites</th>\n",
       "      <th>Hepatomegaly</th>\n",
       "      <th>Spiders</th>\n",
       "      <th>Edema</th>\n",
       "      <th>Bilirubin</th>\n",
       "      <th>Cholesterol</th>\n",
       "      <th>Albumin</th>\n",
       "      <th>Copper</th>\n",
       "      <th>Alk_Phos</th>\n",
       "      <th>SGOT</th>\n",
       "      <th>Tryglicerides</th>\n",
       "      <th>Platelets</th>\n",
       "      <th>Prothrombin</th>\n",
       "      <th>Stage</th>\n",
       "    </tr>\n",
       "  </thead>\n",
       "  <tbody>\n",
       "    <tr>\n",
       "      <th>0</th>\n",
       "      <td>2221</td>\n",
       "      <td>C</td>\n",
       "      <td>Placebo</td>\n",
       "      <td>18499</td>\n",
       "      <td>F</td>\n",
       "      <td>N</td>\n",
       "      <td>Y</td>\n",
       "      <td>N</td>\n",
       "      <td>N</td>\n",
       "      <td>0.5</td>\n",
       "      <td>149.0</td>\n",
       "      <td>4.04</td>\n",
       "      <td>227.0</td>\n",
       "      <td>598.0</td>\n",
       "      <td>52.70</td>\n",
       "      <td>57.0</td>\n",
       "      <td>256.0</td>\n",
       "      <td>9.9</td>\n",
       "      <td>1</td>\n",
       "    </tr>\n",
       "    <tr>\n",
       "      <th>1</th>\n",
       "      <td>1230</td>\n",
       "      <td>C</td>\n",
       "      <td>Placebo</td>\n",
       "      <td>19724</td>\n",
       "      <td>M</td>\n",
       "      <td>Y</td>\n",
       "      <td>N</td>\n",
       "      <td>Y</td>\n",
       "      <td>N</td>\n",
       "      <td>0.5</td>\n",
       "      <td>219.0</td>\n",
       "      <td>3.93</td>\n",
       "      <td>22.0</td>\n",
       "      <td>663.0</td>\n",
       "      <td>45.00</td>\n",
       "      <td>75.0</td>\n",
       "      <td>220.0</td>\n",
       "      <td>10.8</td>\n",
       "      <td>2</td>\n",
       "    </tr>\n",
       "    <tr>\n",
       "      <th>2</th>\n",
       "      <td>4184</td>\n",
       "      <td>C</td>\n",
       "      <td>Placebo</td>\n",
       "      <td>11839</td>\n",
       "      <td>F</td>\n",
       "      <td>N</td>\n",
       "      <td>N</td>\n",
       "      <td>N</td>\n",
       "      <td>N</td>\n",
       "      <td>0.5</td>\n",
       "      <td>320.0</td>\n",
       "      <td>3.54</td>\n",
       "      <td>51.0</td>\n",
       "      <td>1243.0</td>\n",
       "      <td>122.45</td>\n",
       "      <td>80.0</td>\n",
       "      <td>225.0</td>\n",
       "      <td>10.0</td>\n",
       "      <td>2</td>\n",
       "    </tr>\n",
       "    <tr>\n",
       "      <th>3</th>\n",
       "      <td>2090</td>\n",
       "      <td>D</td>\n",
       "      <td>Placebo</td>\n",
       "      <td>16467</td>\n",
       "      <td>F</td>\n",
       "      <td>N</td>\n",
       "      <td>N</td>\n",
       "      <td>N</td>\n",
       "      <td>N</td>\n",
       "      <td>0.7</td>\n",
       "      <td>255.0</td>\n",
       "      <td>3.74</td>\n",
       "      <td>23.0</td>\n",
       "      <td>1024.0</td>\n",
       "      <td>77.50</td>\n",
       "      <td>58.0</td>\n",
       "      <td>151.0</td>\n",
       "      <td>10.2</td>\n",
       "      <td>2</td>\n",
       "    </tr>\n",
       "    <tr>\n",
       "      <th>4</th>\n",
       "      <td>2105</td>\n",
       "      <td>D</td>\n",
       "      <td>Placebo</td>\n",
       "      <td>21699</td>\n",
       "      <td>F</td>\n",
       "      <td>N</td>\n",
       "      <td>Y</td>\n",
       "      <td>N</td>\n",
       "      <td>N</td>\n",
       "      <td>1.9</td>\n",
       "      <td>486.0</td>\n",
       "      <td>3.54</td>\n",
       "      <td>74.0</td>\n",
       "      <td>1052.0</td>\n",
       "      <td>108.50</td>\n",
       "      <td>109.0</td>\n",
       "      <td>151.0</td>\n",
       "      <td>11.5</td>\n",
       "      <td>1</td>\n",
       "    </tr>\n",
       "  </tbody>\n",
       "</table>\n",
       "</div>"
      ],
      "text/plain": [
       "   N_Days Status     Drug    Age Sex Ascites Hepatomegaly Spiders Edema  \\\n",
       "0    2221      C  Placebo  18499   F       N            Y       N     N   \n",
       "1    1230      C  Placebo  19724   M       Y            N       Y     N   \n",
       "2    4184      C  Placebo  11839   F       N            N       N     N   \n",
       "3    2090      D  Placebo  16467   F       N            N       N     N   \n",
       "4    2105      D  Placebo  21699   F       N            Y       N     N   \n",
       "\n",
       "   Bilirubin  Cholesterol  Albumin  Copper  Alk_Phos    SGOT  Tryglicerides  \\\n",
       "0        0.5        149.0     4.04   227.0     598.0   52.70           57.0   \n",
       "1        0.5        219.0     3.93    22.0     663.0   45.00           75.0   \n",
       "2        0.5        320.0     3.54    51.0    1243.0  122.45           80.0   \n",
       "3        0.7        255.0     3.74    23.0    1024.0   77.50           58.0   \n",
       "4        1.9        486.0     3.54    74.0    1052.0  108.50          109.0   \n",
       "\n",
       "   Platelets  Prothrombin  Stage  \n",
       "0      256.0          9.9      1  \n",
       "1      220.0         10.8      2  \n",
       "2      225.0         10.0      2  \n",
       "3      151.0         10.2      2  \n",
       "4      151.0         11.5      1  "
      ]
     },
     "execution_count": 41,
     "metadata": {},
     "output_type": "execute_result"
    }
   ],
   "source": [
    "import pandas as pd\n",
    "\n",
    "df = pd.read_csv(r\"C:\\Users\\mohan\\OneDrive\\Desktop\\Liver_crihosis\\liver_cirrhosis.csv\")\n",
    "df.head()"
   ]
  },
  {
   "cell_type": "code",
   "execution_count": 42,
   "id": "387d193a-f52e-4727-9aae-5cc778b6aa5e",
   "metadata": {},
   "outputs": [
    {
     "name": "stdout",
     "output_type": "stream",
     "text": [
      "<class 'pandas.core.frame.DataFrame'>\n",
      "RangeIndex: 25000 entries, 0 to 24999\n",
      "Data columns (total 19 columns):\n",
      " #   Column         Non-Null Count  Dtype  \n",
      "---  ------         --------------  -----  \n",
      " 0   N_Days         25000 non-null  int64  \n",
      " 1   Status         25000 non-null  object \n",
      " 2   Drug           25000 non-null  object \n",
      " 3   Age            25000 non-null  int64  \n",
      " 4   Sex            25000 non-null  object \n",
      " 5   Ascites        25000 non-null  object \n",
      " 6   Hepatomegaly   25000 non-null  object \n",
      " 7   Spiders        25000 non-null  object \n",
      " 8   Edema          25000 non-null  object \n",
      " 9   Bilirubin      25000 non-null  float64\n",
      " 10  Cholesterol    25000 non-null  float64\n",
      " 11  Albumin        25000 non-null  float64\n",
      " 12  Copper         25000 non-null  float64\n",
      " 13  Alk_Phos       25000 non-null  float64\n",
      " 14  SGOT           25000 non-null  float64\n",
      " 15  Tryglicerides  25000 non-null  float64\n",
      " 16  Platelets      25000 non-null  float64\n",
      " 17  Prothrombin    25000 non-null  float64\n",
      " 18  Stage          25000 non-null  int64  \n",
      "dtypes: float64(9), int64(3), object(7)\n",
      "memory usage: 3.6+ MB\n"
     ]
    }
   ],
   "source": [
    "df.info()\n",
    "\n"
   ]
  },
  {
   "cell_type": "code",
   "execution_count": 43,
   "id": "3f4024c3-b374-4b5f-8532-e901961d32ff",
   "metadata": {},
   "outputs": [
    {
     "data": {
      "text/plain": [
       "N_Days           0\n",
       "Status           0\n",
       "Drug             0\n",
       "Age              0\n",
       "Sex              0\n",
       "Ascites          0\n",
       "Hepatomegaly     0\n",
       "Spiders          0\n",
       "Edema            0\n",
       "Bilirubin        0\n",
       "Cholesterol      0\n",
       "Albumin          0\n",
       "Copper           0\n",
       "Alk_Phos         0\n",
       "SGOT             0\n",
       "Tryglicerides    0\n",
       "Platelets        0\n",
       "Prothrombin      0\n",
       "Stage            0\n",
       "dtype: int64"
      ]
     },
     "execution_count": 43,
     "metadata": {},
     "output_type": "execute_result"
    }
   ],
   "source": [
    "df.isnull().sum()"
   ]
  },
  {
   "cell_type": "code",
   "execution_count": 44,
   "id": "3139ce7a-2811-499d-bf62-986e7bc48ba2",
   "metadata": {},
   "outputs": [],
   "source": [
    "X = df.drop('Stage',axis=1)\n",
    "y = df['Stage']"
   ]
  },
  {
   "cell_type": "code",
   "execution_count": 45,
   "id": "5d56c390-1914-40c5-b249-691f1810bf30",
   "metadata": {},
   "outputs": [],
   "source": [
    "from sklearn.model_selection import train_test_split\n",
    "X_train, X_test, y_train, y_test = train_test_split(X, y, test_size=0.2, random_state=42)"
   ]
  },
  {
   "cell_type": "code",
   "execution_count": 46,
   "id": "b9f5a5cd-0b5d-4f3b-b35c-5cd7975b62e7",
   "metadata": {},
   "outputs": [
    {
     "data": {
      "text/plain": [
       "(20000, 18)"
      ]
     },
     "execution_count": 46,
     "metadata": {},
     "output_type": "execute_result"
    }
   ],
   "source": [
    "X_train.shape"
   ]
  },
  {
   "cell_type": "code",
   "execution_count": 47,
   "id": "c677e932-3d94-4e5c-adb8-401128d7402b",
   "metadata": {},
   "outputs": [
    {
     "data": {
      "text/plain": [
       "(5000, 18)"
      ]
     },
     "execution_count": 47,
     "metadata": {},
     "output_type": "execute_result"
    }
   ],
   "source": [
    "X_test.shape"
   ]
  },
  {
   "cell_type": "code",
   "execution_count": 48,
   "id": "7a114cae-7969-4461-a069-d4c00247c503",
   "metadata": {},
   "outputs": [],
   "source": [
    "# from sklearn.preprocessing import LabelEncoder\n",
    "\n",
    "# encoders = {}\n",
    "\n",
    "# for col in X_train.select_dtypes(include='object').columns:\n",
    "#     le = LabelEncoder()\n",
    "#     X_train[col] = le.fit_transform(X_train[col])\n",
    "    \n",
    "#     # Handle unseen labels by mapping only known labels\n",
    "#     X_test[col] = X_test[col].map(lambda s: le.transform([s])[0] if s in le.classes_ else -1)\n",
    "    \n",
    "#     encoders[col] = le\n",
    "\n",
    "\n"
   ]
  },
  {
   "cell_type": "code",
   "execution_count": 49,
   "id": "7faebef2-4a37-43e1-98e2-5fe1c21f63eb",
   "metadata": {},
   "outputs": [
    {
     "name": "stdout",
     "output_type": "stream",
     "text": [
      "\n",
      "Mapping for column 'Status':\n",
      "  C --> 0\n",
      "  CL --> 1\n",
      "  D --> 2\n",
      "\n",
      "Mapping for column 'Drug':\n",
      "  D-penicillamine --> 0\n",
      "  Placebo --> 1\n",
      "\n",
      "Mapping for column 'Sex':\n",
      "  F --> 0\n",
      "  M --> 1\n",
      "\n",
      "Mapping for column 'Ascites':\n",
      "  N --> 0\n",
      "  Y --> 1\n",
      "\n",
      "Mapping for column 'Hepatomegaly':\n",
      "  N --> 0\n",
      "  Y --> 1\n",
      "\n",
      "Mapping for column 'Spiders':\n",
      "  N --> 0\n",
      "  Y --> 1\n",
      "\n",
      "Mapping for column 'Edema':\n",
      "  N --> 0\n",
      "  S --> 1\n",
      "  Y --> 2\n"
     ]
    }
   ],
   "source": [
    "from sklearn.preprocessing import LabelEncoder\n",
    "\n",
    "# Dictionary to store LabelEncoders for each column\n",
    "encoders = {}\n",
    "\n",
    "# Loop through all object (string) columns in X_train\n",
    "for col in X_train.select_dtypes(include='object').columns:\n",
    "    le = LabelEncoder()\n",
    "    \n",
    "    # Fit and transform on training data\n",
    "    X_train[col + '_encoded'] = le.fit_transform(X_train[col])\n",
    "    \n",
    "    # Transform test data with unseen label handling\n",
    "    X_test[col + '_encoded'] = X_test[col].map(\n",
    "        lambda s: le.transform([s])[0] if s in le.classes_ else -1\n",
    "    )\n",
    "    \n",
    "    # Optionally, overwrite original columns (comment out if you want to keep original)\n",
    "    X_train[col] = X_train[col + '_encoded']\n",
    "    X_test[col] = X_test[col + '_encoded']\n",
    "    \n",
    "    # Store encoder\n",
    "    encoders[col] = le\n",
    "\n",
    "# Optional: print mappings for each encoded column\n",
    "for col, le in encoders.items():\n",
    "    print(f\"\\nMapping for column '{col}':\")\n",
    "    for class_, code in zip(le.classes_, le.transform(le.classes_)):\n",
    "        print(f\"  {class_} --> {code}\")\n",
    "\n",
    "\n",
    "\n",
    "\n",
    "\n"
   ]
  },
  {
   "cell_type": "code",
   "execution_count": null,
   "id": "01ddc4c6-d7dc-4419-b307-39b15225dc4e",
   "metadata": {},
   "outputs": [],
   "source": []
  },
  {
   "cell_type": "code",
   "execution_count": 50,
   "id": "4a510e79-8184-40f4-b5f2-5cf9dc2513c0",
   "metadata": {},
   "outputs": [
    {
     "data": {
      "text/plain": [
       "0.9552"
      ]
     },
     "execution_count": 50,
     "metadata": {},
     "output_type": "execute_result"
    }
   ],
   "source": [
    "from sklearn.ensemble import RandomForestClassifier\n",
    "from sklearn.metrics import accuracy_score\n",
    "\n",
    "\n",
    "\n",
    "\n",
    "rfc = RandomForestClassifier()\n",
    "rfc.fit(X_train,y_train)\n",
    "ypred = rfc.predict(X_test)\n",
    "accuracy_score(y_test,ypred)"
   ]
  },
  {
   "cell_type": "code",
   "execution_count": 51,
   "id": "24e85e10-37e5-482c-a15a-1e1a8c3fbe6f",
   "metadata": {},
   "outputs": [],
   "source": [
    "##PREDICTION MODEL##\n"
   ]
  },
  {
   "cell_type": "code",
   "execution_count": 52,
   "id": "24ee7e90-ee8c-4d28-b3f8-600a3e584d0f",
   "metadata": {},
   "outputs": [
    {
     "name": "stdout",
     "output_type": "stream",
     "text": [
      "Accuracy: 0.9572\n"
     ]
    }
   ],
   "source": [
    "import pandas as pd\n",
    "import numpy as np\n",
    "from sklearn.model_selection import train_test_split\n",
    "from sklearn.preprocessing import LabelEncoder\n",
    "from sklearn.ensemble import RandomForestClassifier\n",
    "from sklearn.metrics import accuracy_score\n",
    "\n",
    "# Load data\n",
    "df = pd.read_csv(r\"C:\\Users\\mohan\\OneDrive\\Desktop\\Liver_crihosis\\liver_cirrhosis.csv\")\n",
    "\n",
    "# Separate features and target\n",
    "X = df.drop('Stage', axis=1)\n",
    "y = df['Stage']\n",
    "\n",
    "# Train-test split\n",
    "X_train, X_test, y_train, y_test = train_test_split(X.copy(), y, test_size=0.2, random_state=42)\n",
    "\n",
    "# Store encoders\n",
    "encoders = {}\n",
    "\n",
    "# Encode categorical columns\n",
    "for col in X_train.select_dtypes(include='object').columns:\n",
    "    le = LabelEncoder()\n",
    "    X_train[col] = le.fit_transform(X_train[col])\n",
    "    X_test[col] = X_test[col].map(lambda s: le.transform([s])[0] if s in le.classes_ else -1)\n",
    "    encoders[col] = le\n",
    "\n",
    "# Train model\n",
    "rfc = RandomForestClassifier()\n",
    "rfc.fit(X_train, y_train)\n",
    "\n",
    "# Evaluate\n",
    "ypred = rfc.predict(X_test)\n",
    "print(\"Accuracy:\", accuracy_score(y_test, ypred))\n",
    "\n",
    "# Save feature order\n",
    "model_features = X_train.columns.tolist()"
   ]
  },
  {
   "cell_type": "code",
   "execution_count": 54,
   "id": "27630c90-7759-4a2b-a9ce-a61eeb41f070",
   "metadata": {},
   "outputs": [
    {
     "name": "stdout",
     "output_type": "stream",
     "text": [
      "Predicted Stage: 2\n"
     ]
    }
   ],
   "source": [
    " # Input for prediction\n",
    " input_dict = {\n",
    "     'N_Days': 1230,\n",
    "     'Status': 'C',        # Example\n",
    "     'Drug': 'Placebo',\n",
    "     'Age': 19724,\n",
    "     'Sex': 'M',\n",
    "     'Ascites': 'Y',\n",
    "     'Hepatomegaly': 'N',\n",
    "     'Spiders': 'Y',\n",
    "     'Edema': 'N',\n",
    "     'Bilirubin': 0.5,\n",
    "     'Cholesterol': 219.0,\n",
    "     'Albumin': 3.93,\n",
    "     'Copper': 22.0,\n",
    "     'Alk_Phos': 663.0,\n",
    "     'SGOT': 45.00,\n",
    "     'Tryglicerides': 75.0,\n",
    "     'Platelets': 220.0,\n",
    "     'Prothrombin': 10.8\n",
    " }\n",
    "\n",
    " # Convert to DataFrame\n",
    " input_df = pd.DataFrame([input_dict])\n",
    "\n",
    " # Encode categorical values using trained encoders\n",
    " for col, le in encoders.items():\n",
    "     input_df[col] = input_df[col].map(lambda s: le.transform([s])[0] if s in le.classes_ else -1)\n",
    "\n",
    " # Ensure all model features are present\n",
    " for col in model_features:\n",
    "     if col not in input_df.columns:\n",
    "         input_df[col] = 0  # default for missing features\n",
    "\n",
    " # Align columns\n",
    " input_df = input_df[model_features]\n",
    "\n",
    " # Predict\n",
    " prediction = rfc.predict(input_df)\n",
    "print(\"Predicted Stage:\", prediction[0])\n",
    "\n"
   ]
  },
  {
   "cell_type": "code",
   "execution_count": null,
   "id": "e6696780-1df2-43f4-b849-ee8bbfac6cee",
   "metadata": {},
   "outputs": [],
   "source": []
  }
 ],
 "metadata": {
  "kernelspec": {
   "display_name": "Python 3 (ipykernel)",
   "language": "python",
   "name": "python3"
  },
  "language_info": {
   "codemirror_mode": {
    "name": "ipython",
    "version": 3
   },
   "file_extension": ".py",
   "mimetype": "text/x-python",
   "name": "python",
   "nbconvert_exporter": "python",
   "pygments_lexer": "ipython3",
   "version": "3.12.7"
  }
 },
 "nbformat": 4,
 "nbformat_minor": 5
}
